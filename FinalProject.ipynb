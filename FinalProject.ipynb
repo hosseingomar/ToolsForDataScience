{
 "cells": [
  {
   "attachments": {},
   "cell_type": "markdown",
   "metadata": {},
   "source": [
    "# **Exercise 2:** \n",
    "\n",
    "### **Final Exam**\n"
   ]
  },
  {
   "attachments": {},
   "cell_type": "markdown",
   "metadata": {},
   "source": [
    "# **Exercise 3:** \n",
    "This notebook is about final exam of the \"Tools For Data Science\" course on Coursera"
   ]
  },
  {
   "attachments": {},
   "cell_type": "markdown",
   "metadata": {},
   "source": [
    "# **Exercise 4:**\n",
    "#### __The popular languages for Data Science are :__\n",
    "1. Python\n",
    "2. R\n",
    "3. SQL\n",
    "4. Scala\n",
    "5. Java\n",
    "6. C++\n",
    "7. Julia\n",
    "8. JavaScript\n",
    "9. PHP\n",
    "10. Go\n",
    "11. Ruby\n",
    "12. Visual Basic\n",
    "\n"
   ]
  },
  {
   "attachments": {},
   "cell_type": "markdown",
   "metadata": {},
   "source": [
    "# **Exercise 5:** \n",
    "__The popular Data Science libraries are :__\n",
    "1. NumPy\n",
    "2. Pandas\n",
    "3. Matplotlib\n",
    "4. scikit-learn\n",
    "5. Seaborn\n",
    "6. SciPy"
   ]
  },
  {
   "attachments": {},
   "cell_type": "markdown",
   "metadata": {},
   "source": [
    "# **Exercise 6:**\n",
    "\n",
    "|Data Science tools|\n",
    "|------------------|\n",
    "|VScode|\n",
    "|Jupyter Notebook|\n",
    "|Spyder|\n",
    "|Pycharm|\n",
    "|RStudio|"
   ]
  },
  {
   "attachments": {},
   "cell_type": "markdown",
   "metadata": {},
   "source": [
    "# __Exercise 7:__\n",
    "#### Below are a few examples of evaluating arithmetic expressions in Python"
   ]
  },
  {
   "cell_type": "code",
   "execution_count": 12,
   "metadata": {},
   "outputs": [
    {
     "name": "stdout",
     "output_type": "stream",
     "text": [
      "a+b: 15\n",
      "a-b: 5\n",
      "a*b: 50\n",
      "a/b: 2.0\n"
     ]
    }
   ],
   "source": [
    "a=10\n",
    "b=5\n",
    "sum=a+b\n",
    "subtraction=a-b\n",
    "multiplication=a*b\n",
    "division=a/b\n",
    "print('a+b: '+str(sum))\n",
    "print('a-b: '+str(subtraction))\n",
    "print('a*b: '+str(multiplication))\n",
    "print('a/b: '+str(division))"
   ]
  },
  {
   "attachments": {},
   "cell_type": "markdown",
   "metadata": {},
   "source": [
    "# __Exercise 8:__\n",
    "#### This a simple arithmetic expression to mutiply then add integers\n"
   ]
  },
  {
   "cell_type": "code",
   "execution_count": 13,
   "metadata": {},
   "outputs": [
    {
     "name": "stdout",
     "output_type": "stream",
     "text": [
      "17\n"
     ]
    }
   ],
   "source": [
    "print((3*4)+5)"
   ]
  },
  {
   "attachments": {},
   "cell_type": "markdown",
   "metadata": {},
   "source": [
    "# __Exercise 9:__\n",
    "#### This will convert 200 minutes to hours by diving by 60"
   ]
  },
  {
   "cell_type": "code",
   "execution_count": 14,
   "metadata": {},
   "outputs": [
    {
     "name": "stdout",
     "output_type": "stream",
     "text": [
      "3.3333333333333335\n"
     ]
    }
   ],
   "source": [
    "minutes=200\n",
    "hours=minutes/60\n",
    "print(hours)"
   ]
  },
  {
   "attachments": {},
   "cell_type": "markdown",
   "metadata": {},
   "source": [
    "# __Exercise 10:__ \n",
    "\n",
    "__objectives__\n",
    "* List of popular languages for Data Science\n",
    "* List of popular libraries for Data Science\n",
    "* Some Data Science tools\n",
    "* examples of evaluating arithmetic expressions"
   ]
  },
  {
   "attachments": {},
   "cell_type": "markdown",
   "metadata": {},
   "source": [
    "# __Exercise 11:__\n",
    "## Author\n",
    "Mohammad Hossein Gomar"
   ]
  },
  {
   "attachments": {},
   "cell_type": "markdown",
   "metadata": {},
   "source": [
    "# __Exercise 12:__\n",
    "\n",
    "I uploaded this notebook on my github\n",
    "you can access by click on this link: __https://github.com/hosseingomar/FinalProject__"
   ]
  },
  {
   "attachments": {},
   "cell_type": "markdown",
   "metadata": {},
   "source": [
    "# __Exercise 13:__\n",
    "\n",
    "#### This is the screenshot of the first page of the notebook: \n",
    "![Alt text](1-notebook.png)"
   ]
  },
  {
   "cell_type": "markdown",
   "metadata": {},
   "source": []
  }
 ],
 "metadata": {
  "kernelspec": {
   "display_name": "base",
   "language": "python",
   "name": "python3"
  },
  "language_info": {
   "codemirror_mode": {
    "name": "ipython",
    "version": 3
   },
   "file_extension": ".py",
   "mimetype": "text/x-python",
   "name": "python",
   "nbconvert_exporter": "python",
   "pygments_lexer": "ipython3",
   "version": "3.9.16"
  },
  "orig_nbformat": 4
 },
 "nbformat": 4,
 "nbformat_minor": 2
}
